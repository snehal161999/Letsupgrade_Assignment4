{
 "cells": [
  {
   "cell_type": "markdown",
   "metadata": {},
   "source": [
    "1.find all occurances of substring in the given string\n",
    "  \"what we think we become; we are python programmer\"\n",
    "  \n",
    "  print index value of \"we\""
   ]
  },
  {
   "cell_type": "code",
   "execution_count": 1,
   "metadata": {},
   "outputs": [
    {
     "name": "stdout",
     "output_type": "stream",
     "text": [
      "the count is 3\n"
     ]
    }
   ],
   "source": [
    "string= \"what we think we become; we are python programmer\"\n",
    "substring=\"we\"\n",
    "\n",
    "count=string.count(substring)\n",
    "\n",
    "print(\"the count is\",count)"
   ]
  },
  {
   "cell_type": "markdown",
   "metadata": {},
   "source": [
    "2.islower()-with different kinds of string"
   ]
  },
  {
   "cell_type": "code",
   "execution_count": 2,
   "metadata": {},
   "outputs": [
    {
     "name": "stdout",
     "output_type": "stream",
     "text": [
      "True\n",
      "False\n",
      "False\n"
     ]
    }
   ],
   "source": [
    "s=\"thank you letsupgrade\"\n",
    "print(s.islower())\n",
    "\n",
    "s=\"thank you LetsUpgrade\"\n",
    "print(s.islower())\n",
    "\n",
    "s=\"thank you letsUPgrade\"\n",
    "print(s.islower())"
   ]
  },
  {
   "cell_type": "markdown",
   "metadata": {},
   "source": [
    "2.1 isupper()-with different kinds of string"
   ]
  },
  {
   "cell_type": "code",
   "execution_count": 5,
   "metadata": {},
   "outputs": [
    {
     "name": "stdout",
     "output_type": "stream",
     "text": [
      "It containes uppercase letters\n",
      "It does not containes uppercase letters\n"
     ]
    }
   ],
   "source": [
    "string=\"I AM A PYTHON PROGRAMMER\"\n",
    "if string.isupper()==True:\n",
    "    print(\"It containes uppercase letters\")\n",
    "else:\n",
    "     print(\"It does not containes uppercase letters\")\n",
    "        \n",
    "\n",
    "string=\"I am A PYTHON PROGRAMMER\"\n",
    "if string.isupper()==True:\n",
    "    print(\"It containes uppercase letters\")\n",
    "else:\n",
    "     print(\"It does not containes uppercase letters\")       "
   ]
  },
  {
   "cell_type": "code",
   "execution_count": null,
   "metadata": {},
   "outputs": [],
   "source": []
  }
 ],
 "metadata": {
  "kernelspec": {
   "display_name": "Python 3",
   "language": "python",
   "name": "python3"
  },
  "language_info": {
   "codemirror_mode": {
    "name": "ipython",
    "version": 3
   },
   "file_extension": ".py",
   "mimetype": "text/x-python",
   "name": "python",
   "nbconvert_exporter": "python",
   "pygments_lexer": "ipython3",
   "version": "3.7.6"
  }
 },
 "nbformat": 4,
 "nbformat_minor": 4
}
